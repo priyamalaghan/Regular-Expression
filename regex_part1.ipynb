{
 "cells": [
  {
   "cell_type": "markdown",
   "id": "b665d0f3",
   "metadata": {},
   "source": [
    "# Regular Expressions"
   ]
  },
  {
   "cell_type": "markdown",
   "id": "53725968",
   "metadata": {},
   "source": [
    "- Regular Expression basically allow us to search for and match specific patterns of text"
   ]
  },
  {
   "cell_type": "markdown",
   "id": "5d94c3c0",
   "metadata": {},
   "source": [
    "- **Raw String**\n",
    "- raw string is a string prefixed with an r and that tells python not to handle back slashes in any special way\n",
    "- Normally back slashes are used to specify tabs or new lines etc\n",
    "- We want our regular expressions to interpret the strings we are passing in and not have python doing anything to them first"
   ]
  },
  {
   "cell_type": "code",
   "execution_count": null,
   "id": "1a78ae30",
   "metadata": {},
   "outputs": [],
   "source": [
    "print('\\tTab')\n",
    "print(r'\\tTab')"
   ]
  },
  {
   "cell_type": "markdown",
   "id": "d9fe91a9",
   "metadata": {},
   "source": [
    "- . - matches any character except new line\n",
    "- \\d - matches Digit (0-9)\n",
    "- \\D - Not a digit (0-9)\n",
    "- \\w - Word character (a-z, A-Z, 0-9, _)\n",
    "- \\W - Not a word character\n",
    "- \\s - Whitespace(space,tab,newline)\n",
    "- \\S - Not whitespace(space,tab,newline)\n",
    "- **Anchors** : They dont actually match any chracters but rather invisible positions before or after characters. We can use this in conjunction with other patterns for searching for \n",
    "- \\b - Word boundary (indicated by whitespace or a non alphanumeric character)\n",
    "- \\B - Not a word boundary\n",
    "- ^ - Beginning of a string\n",
    "- $ - End of a string\n",
    "- [] - Matches characters in bracket\n",
    "- [^ ] - Matches characters not in brackets\n",
    "- | - Either Or\n",
    "- () - group\n",
    "- **Quantifiers**\n",
    "- '*' - Match its preceding element one or more times.\n",
    "- '+' - Match its preceding element one or more times.\n",
    "- ? - Match its preceding element zero or one time.\n",
    "- {3} - Exact Number\n",
    "- {3,4} - Range of numbers (Minimum, Maximum)"
   ]
  },
  {
   "cell_type": "code",
   "execution_count": null,
   "id": "4840e24c",
   "metadata": {},
   "outputs": [],
   "source": [
    "import re"
   ]
  },
  {
   "cell_type": "code",
   "execution_count": null,
   "id": "a7e3e28c",
   "metadata": {},
   "outputs": [],
   "source": [
    "text_to_search = '''\n",
    "abcdefghijklmnopqrstuvwxyz\n",
    "ABCDEFGHIJJKLMNOPQRSTUVWXYZ\n",
    "1234567890\n",
    "\n",
    "Ha HaHa\n",
    "\n",
    "abc\n",
    "\n",
    "MetaCha_racters (Need to be escaped):\n",
    ". ^ $ * + ? { } [ ] \\ | ( )\n",
    "\n",
    "coreyms.com\n",
    "\n",
    "321-555-4321\n",
    "123.555.1234\n",
    "121*554*1534\n",
    "331--555-4321\n",
    "800-555-1234\n",
    "900-555-1234\n",
    "\n",
    "Mr. Schafer\n",
    "Mr Smith\n",
    "Ms Davis\n",
    "Mrs. Robinson\n",
    "Mr. T\n",
    "\n",
    "cat\n",
    "mat\n",
    "pat\n",
    "bat\n",
    "\n",
    "'''\n",
    "\n",
    "sentence = 'Start a sentence and then  bring it to an end'"
   ]
  },
  {
   "cell_type": "code",
   "execution_count": null,
   "id": "46799065",
   "metadata": {},
   "outputs": [],
   "source": [
    "pattern = re.compile(r'abc')\n",
    "matches = pattern.finditer(text_to_search)\n",
    "for match in matches:\n",
    "    print(match)\n",
    "#span is the beginning and the end index of the match\n",
    "print(text_to_search[1:4])"
   ]
  },
  {
   "cell_type": "code",
   "execution_count": null,
   "id": "a9bf2638",
   "metadata": {},
   "outputs": [],
   "source": [
    "pattern = re.compile(r'abc')\n",
    "matches = pattern.finditer(text_to_search)\n",
    "for match in matches:\n",
    "    print(match.group())"
   ]
  },
  {
   "cell_type": "code",
   "execution_count": null,
   "id": "208de2f1",
   "metadata": {},
   "outputs": [],
   "source": [
    "pattern = re.compile(r'bac')\n",
    "matches = pattern.finditer(text_to_search)\n",
    "for match in matches:\n",
    "    print(match.group())"
   ]
  },
  {
   "cell_type": "code",
   "execution_count": null,
   "id": "19e55930",
   "metadata": {},
   "outputs": [],
   "source": [
    "pattern = re.compile(r'.')\n",
    "matches = pattern.finditer(text_to_search)\n",
    "for match in matches:\n",
    "    print(match)"
   ]
  },
  {
   "cell_type": "code",
   "execution_count": null,
   "id": "ed2d65e8",
   "metadata": {},
   "outputs": [],
   "source": [
    "pattern = re.compile(r'\\.')\n",
    "matches = pattern.finditer(text_to_search)\n",
    "for match in matches:\n",
    "    print(match.group())"
   ]
  },
  {
   "cell_type": "code",
   "execution_count": null,
   "id": "541deb5d",
   "metadata": {},
   "outputs": [],
   "source": [
    "pattern = re.compile(r'coreyms\\.com')\n",
    "matches = pattern.finditer(text_to_search)\n",
    "for match in matches:\n",
    "    print(match.group())"
   ]
  },
  {
   "cell_type": "code",
   "execution_count": null,
   "id": "2966f5bf",
   "metadata": {
    "scrolled": true
   },
   "outputs": [],
   "source": [
    "pattern = re.compile(r'\\d')\n",
    "matches = pattern.finditer(text_to_search)\n",
    "for match in matches:\n",
    "    print(match.group())"
   ]
  },
  {
   "cell_type": "code",
   "execution_count": null,
   "id": "b389574a",
   "metadata": {},
   "outputs": [],
   "source": [
    "pattern = re.compile(r'\\D')\n",
    "matches = pattern.finditer(text_to_search)\n",
    "for match in matches:\n",
    "    print(match)"
   ]
  },
  {
   "cell_type": "code",
   "execution_count": null,
   "id": "18752adb",
   "metadata": {},
   "outputs": [],
   "source": [
    "pattern = re.compile(r'\\w')\n",
    "matches = pattern.finditer(text_to_search)\n",
    "for match in matches:\n",
    "    print(match)"
   ]
  },
  {
   "cell_type": "code",
   "execution_count": null,
   "id": "b1ea9e49",
   "metadata": {
    "scrolled": true
   },
   "outputs": [],
   "source": [
    "pattern = re.compile(r'\\W')\n",
    "matches = pattern.finditer(text_to_search)\n",
    "for match in matches:\n",
    "    print(match)"
   ]
  },
  {
   "cell_type": "code",
   "execution_count": null,
   "id": "1a6ba154",
   "metadata": {
    "scrolled": true
   },
   "outputs": [],
   "source": [
    "pattern = re.compile(r'\\s')\n",
    "matches = pattern.finditer(text_to_search)\n",
    "for match in matches:\n",
    "    print(match)"
   ]
  },
  {
   "cell_type": "code",
   "execution_count": null,
   "id": "42eb193d",
   "metadata": {},
   "outputs": [],
   "source": [
    "pattern = re.compile(r'\\S')\n",
    "matches = pattern.finditer(text_to_search)\n",
    "for match in matches:\n",
    "    print(match)"
   ]
  },
  {
   "cell_type": "code",
   "execution_count": null,
   "id": "0e96d8f5",
   "metadata": {},
   "outputs": [],
   "source": [
    "pattern = re.compile(r'\\bHa')\n",
    "matches = pattern.finditer(text_to_search)\n",
    "for match in matches:\n",
    "    print(match)"
   ]
  },
  {
   "cell_type": "code",
   "execution_count": null,
   "id": "2017f7cd",
   "metadata": {},
   "outputs": [],
   "source": [
    "pattern = re.compile(r'\\BHa')\n",
    "matches = pattern.finditer(text_to_search)\n",
    "for match in matches:\n",
    "    print(match)"
   ]
  },
  {
   "cell_type": "code",
   "execution_count": null,
   "id": "68644ff1",
   "metadata": {},
   "outputs": [],
   "source": [
    "pattern = re.compile(r'^Start')\n",
    "matches = pattern.finditer(sentence)\n",
    "for match in matches:\n",
    "    print(match)"
   ]
  },
  {
   "cell_type": "code",
   "execution_count": null,
   "id": "ba0bd467",
   "metadata": {},
   "outputs": [],
   "source": [
    "pattern = re.compile(r'^rt')\n",
    "matches = pattern.finditer(sentence)\n",
    "for match in matches:\n",
    "    print(match)"
   ]
  },
  {
   "cell_type": "code",
   "execution_count": null,
   "id": "994383a3",
   "metadata": {},
   "outputs": [],
   "source": [
    "pattern = re.compile(r'^S')\n",
    "matches = pattern.finditer(sentence)\n",
    "for match in matches:\n",
    "    print(match)"
   ]
  },
  {
   "cell_type": "code",
   "execution_count": null,
   "id": "3d7cc6b6",
   "metadata": {},
   "outputs": [],
   "source": [
    "pattern = re.compile(r'nd$')\n",
    "matches = pattern.finditer(sentence)\n",
    "for match in matches:\n",
    "    print(match)"
   ]
  },
  {
   "cell_type": "code",
   "execution_count": null,
   "id": "02763ab1",
   "metadata": {},
   "outputs": [],
   "source": [
    "pattern = re.compile(r'end$')\n",
    "matches = pattern.finditer(sentence)\n",
    "for match in matches:\n",
    "    print(match)"
   ]
  },
  {
   "cell_type": "code",
   "execution_count": null,
   "id": "8f455c72",
   "metadata": {},
   "outputs": [],
   "source": [
    "#Regular expression to match phone number\n",
    "pattern = re.compile(r'\\d\\d\\d.\\d\\d\\d.\\d\\d\\d\\d')# . matches any character\n",
    "matches = pattern.finditer(text_to_search)\n",
    "for match in matches:\n",
    "    print(match)"
   ]
  },
  {
   "cell_type": "code",
   "execution_count": null,
   "id": "c55659c6",
   "metadata": {},
   "outputs": [],
   "source": [
    "#Regular expression to match phone number\n",
    "pattern = re.compile(r'\\d\\d\\d..\\d\\d\\d.\\d\\d\\d\\d')# . matches any character\n",
    "matches = pattern.finditer(text_to_search)\n",
    "for match in matches:\n",
    "    print(match)"
   ]
  },
  {
   "cell_type": "code",
   "execution_count": null,
   "id": "e89b7abc",
   "metadata": {},
   "outputs": [],
   "source": [
    "#Regular expression to match phone number\n",
    "pattern = re.compile(r'\\d\\d\\d[-.]\\d\\d\\d[-.]\\d\\d\\d\\d')# . matches any character\n",
    "matches = pattern.finditer(text_to_search)\n",
    "for match in matches:\n",
    "    print(match)"
   ]
  },
  {
   "cell_type": "code",
   "execution_count": null,
   "id": "c0bfb8e7",
   "metadata": {},
   "outputs": [],
   "source": [
    "#Regular expression to match phone number\n",
    "pattern = re.compile(r'\\d\\d\\d[*]\\d\\d\\d[*]\\d\\d\\d\\d')# . matches any character\n",
    "matches = pattern.finditer(text_to_search)\n",
    "for match in matches:\n",
    "    print(match)"
   ]
  },
  {
   "cell_type": "code",
   "execution_count": null,
   "id": "2f86f441",
   "metadata": {},
   "outputs": [],
   "source": [
    "#Regular expression to match phone number\n",
    "pattern = re.compile(r'[89]00[-.]\\d\\d\\d[-.]\\d\\d\\d\\d')# . matches any character\n",
    "matches = pattern.finditer(text_to_search)\n",
    "for match in matches:\n",
    "    print(match)"
   ]
  },
  {
   "cell_type": "code",
   "execution_count": null,
   "id": "83c83093",
   "metadata": {
    "scrolled": true
   },
   "outputs": [],
   "source": [
    "pattern = re.compile(r'\\d\\d\\d.\\d\\d\\d.\\d\\d\\d\\d') \n",
    "matches = pattern.finditer(text_to_search)\n",
    "#with open(r'data.txt','r',encoding='utf-8') as f: If you get Unicodedecodeerror\n",
    "with open(r'data.txt','r') as f:\n",
    "    contents = f.read()\n",
    "    matches = pattern.finditer(contents)\n",
    "    for match in matches:\n",
    "        print(match)"
   ]
  },
  {
   "cell_type": "code",
   "execution_count": null,
   "id": "a9c50243",
   "metadata": {},
   "outputs": [],
   "source": [
    "pattern = re.compile(r'[89]00[-.]\\d\\d\\d[-.]\\d\\d\\d\\d') \n",
    "matches = pattern.finditer(text_to_search)\n",
    "#with open(r'data.txt','r',encoding='utf-8') as f: If you get Unicodedecodeerror\n",
    "with open(r'data.txt','r') as f:\n",
    "    contents = f.read()\n",
    "    matches = pattern.finditer(contents)\n",
    "    for match in matches:\n",
    "        print(match)"
   ]
  },
  {
   "cell_type": "code",
   "execution_count": null,
   "id": "d4a5670a",
   "metadata": {},
   "outputs": [],
   "source": [
    "pattern = re.compile(r'[1-3]')\n",
    "matches = pattern.finditer(text_to_search)\n",
    "for match in matches:\n",
    "    print(match)"
   ]
  },
  {
   "cell_type": "code",
   "execution_count": null,
   "id": "ab1820a1",
   "metadata": {},
   "outputs": [],
   "source": [
    "pattern = re.compile(r'[a-f]')\n",
    "matches = pattern.finditer(sentence)\n",
    "for match in matches:\n",
    "    print(match)"
   ]
  },
  {
   "cell_type": "code",
   "execution_count": null,
   "id": "4e22a880",
   "metadata": {},
   "outputs": [],
   "source": [
    "pattern = re.compile(r'[a-fM-T]')\n",
    "matches = pattern.finditer(sentence)\n",
    "for match in matches:\n",
    "    print(match)"
   ]
  },
  {
   "cell_type": "code",
   "execution_count": null,
   "id": "17fd6ca6",
   "metadata": {
    "scrolled": true
   },
   "outputs": [],
   "source": [
    "pattern = re.compile(r'[^a-fM-T]')\n",
    "matches = pattern.finditer(sentence)\n",
    "for match in matches:\n",
    "    print(match)"
   ]
  },
  {
   "cell_type": "code",
   "execution_count": null,
   "id": "ce437c16",
   "metadata": {},
   "outputs": [],
   "source": [
    "pattern = re.compile(r'[^b]at')\n",
    "matches = pattern.finditer(text_to_search)\n",
    "for match in matches:\n",
    "    print(match)"
   ]
  },
  {
   "cell_type": "markdown",
   "id": "60178cca",
   "metadata": {},
   "source": [
    "**Quantifiers**"
   ]
  },
  {
   "cell_type": "code",
   "execution_count": null,
   "id": "3369b0dd",
   "metadata": {},
   "outputs": [],
   "source": [
    "pattern = re.compile(r'\\d{3}.\\d{3}.\\d{4}')\n",
    "matches = pattern.finditer(text_to_search)\n",
    "for match in matches:\n",
    "    print(match)"
   ]
  },
  {
   "cell_type": "code",
   "execution_count": null,
   "id": "a7d7e821",
   "metadata": {},
   "outputs": [],
   "source": [
    "pattern = re.compile(r'Mr\\.?\\s[A-Z]\\w*')\n",
    "matches = pattern.finditer(text_to_search)\n",
    "for match in matches:\n",
    "    print(match)"
   ]
  },
  {
   "cell_type": "code",
   "execution_count": null,
   "id": "32aeecdf",
   "metadata": {},
   "outputs": [],
   "source": [
    "#pattern = re.compile(r'(Mr|Mrs|Ms)\\.?\\s[A-Z]\\w*')\n",
    "pattern = re.compile(r'M(r|rs|s)\\.?\\s[A-Z]\\w*')\n",
    "matches = pattern.finditer(text_to_search)\n",
    "for match in matches:\n",
    "    print(match)"
   ]
  },
  {
   "cell_type": "markdown",
   "id": "0c82701d",
   "metadata": {},
   "source": [
    "**Example**"
   ]
  },
  {
   "cell_type": "code",
   "execution_count": null,
   "id": "f7573d2a",
   "metadata": {},
   "outputs": [],
   "source": [
    "import re\n",
    "emails = '''\n",
    "CoreyMSchafer@gmail.com\n",
    "corey.schafer@university.edu\n",
    "corey-321-schafer@my-work.net\n",
    "'''\n",
    "pattern = re.compile(r'[a-zA-Z]+@[a-zA-Z]+\\.com')\n",
    "matches = pattern.finditer(emails)\n",
    "for match in matches:\n",
    "    print(match)"
   ]
  },
  {
   "cell_type": "code",
   "execution_count": null,
   "id": "bc2d85ae",
   "metadata": {},
   "outputs": [],
   "source": [
    "import re\n",
    "emails = '''\n",
    "CoreyMSchafer@gmail.com\n",
    "corey.schafer@university.edu\n",
    "corey-321-schafer@my-work.net\n",
    "'''\n",
    "pattern = re.compile(r'[a-zA-Z.]+@[a-zA-Z]+\\.(com|edu)')\n",
    "matches = pattern.finditer(emails)\n",
    "for match in matches:\n",
    "    print(match)"
   ]
  },
  {
   "cell_type": "code",
   "execution_count": null,
   "id": "f51854a0",
   "metadata": {},
   "outputs": [],
   "source": [
    "import re\n",
    "emails = '''\n",
    "CoreyMSchafer@gmail.com\n",
    "corey.schafer@university.edu\n",
    "corey-321-schafer@my-work.net\n",
    "'''\n",
    "pattern = re.compile(r'[a-zA-Z0-9.-]+@[a-zA-Z-]+\\.(com|edu|net)')\n",
    "matches = pattern.finditer(emails)\n",
    "for match in matches:\n",
    "    print(match)"
   ]
  },
  {
   "cell_type": "code",
   "execution_count": null,
   "id": "7151d3fc",
   "metadata": {},
   "outputs": [],
   "source": [
    "#Generic regex for emails\n",
    "import re\n",
    "emails = '''\n",
    "CoreyMSchafer@gmail.com\n",
    "corey.schafer@university.edu\n",
    "corey-321-schafer@my-work.net\n",
    "'''\n",
    "pattern = re.compile(r'[a-zA-Z0-9_.+-]+@[a-zA-Z0-9-]+\\.[a-zA-Z0-9-.]+')\n",
    "matches = pattern.finditer(emails)\n",
    "for match in matches:\n",
    "    print(match)"
   ]
  },
  {
   "cell_type": "code",
   "execution_count": null,
   "id": "e9335cbe",
   "metadata": {},
   "outputs": [],
   "source": [
    "import re\n",
    "urls = '''\n",
    "https://www.google.com\n",
    "http://coreyms.com\n",
    "https://youtube.com\n",
    "https://www.nasa.gov\n",
    "'''\n",
    "pattern = re.compile(r'[^https?://(www\\.)?]\\w+\\.\\w+')\n",
    "matches = pattern.finditer(urls)\n",
    "for match in matches:\n",
    "    print(match)"
   ]
  },
  {
   "cell_type": "code",
   "execution_count": null,
   "id": "779720c8",
   "metadata": {},
   "outputs": [],
   "source": [
    "import re\n",
    "urls = '''\n",
    "https://www.google.com\n",
    "http://coreyms.com\n",
    "https://youtube.com\n",
    "https://www.nasa.gov\n",
    "'''\n",
    "pattern = re.compile(r'https?://(www\\.)?(\\w+)(\\.\\w+)')\n",
    "matches = pattern.finditer(urls)\n",
    "for match in matches:\n",
    "    print(match.group(0))"
   ]
  },
  {
   "cell_type": "code",
   "execution_count": null,
   "id": "c951cd1f",
   "metadata": {},
   "outputs": [],
   "source": [
    "import re\n",
    "urls = '''\n",
    "https://www.google.com\n",
    "http://coreyms.com\n",
    "https://youtube.com\n",
    "https://www.nasa.gov\n",
    "'''\n",
    "pattern = re.compile(r'https?://(www\\.)?(\\w+)(\\.\\w+)')\n",
    "matches = pattern.finditer(urls)\n",
    "for match in matches:\n",
    "    print(match.group(1))"
   ]
  },
  {
   "cell_type": "code",
   "execution_count": null,
   "id": "cca1f892",
   "metadata": {},
   "outputs": [],
   "source": [
    "import re\n",
    "urls = '''\n",
    "https://www.google.com\n",
    "http://coreyms.com\n",
    "https://youtube.com\n",
    "https://www.nasa.gov\n",
    "'''\n",
    "pattern = re.compile(r'https?://(www\\.)?(\\w+)(\\.\\w+)')\n",
    "matches = pattern.finditer(urls)\n",
    "for match in matches:\n",
    "    print(match.group(2))"
   ]
  },
  {
   "cell_type": "code",
   "execution_count": null,
   "id": "4c01a31b",
   "metadata": {},
   "outputs": [],
   "source": [
    "import re\n",
    "urls = '''\n",
    "https://www.google.com\n",
    "http://coreyms.com\n",
    "https://youtube.com\n",
    "https://www.nasa.gov\n",
    "'''\n",
    "pattern = re.compile(r'https?://(www\\.)?(\\w+)(\\.\\w+)')\n",
    "matches = pattern.finditer(urls)\n",
    "for match in matches:\n",
    "    print(match.group(3))"
   ]
  },
  {
   "cell_type": "code",
   "execution_count": null,
   "id": "9a697103",
   "metadata": {},
   "outputs": [],
   "source": [
    "import re\n",
    "urls = '''\n",
    "https://www.google.com\n",
    "http://coreyms.com\n",
    "https://youtube.com\n",
    "https://www.nasa.gov\n",
    "'''\n",
    "pattern = re.compile(r'https?://(www\\.)?(\\w+)(\\.\\w+)')\n",
    "subbed_urls = pattern.sub(r'\\2\\3',urls)\n",
    "print(subbed_urls)"
   ]
  },
  {
   "cell_type": "markdown",
   "id": "17feda54",
   "metadata": {},
   "source": [
    "**findall()**"
   ]
  },
  {
   "cell_type": "code",
   "execution_count": null,
   "id": "a691950d",
   "metadata": {},
   "outputs": [],
   "source": [
    "pattern = re.compile(r'Mr\\.?\\s[A-Z]\\w*')\n",
    "matches = pattern.findall(text_to_search)\n",
    "for match in matches:\n",
    "    print(match)"
   ]
  },
  {
   "cell_type": "code",
   "execution_count": null,
   "id": "9d48152e",
   "metadata": {},
   "outputs": [],
   "source": [
    "import re\n",
    "urls = '''\n",
    "https://www.google.com\n",
    "http://coreyms.com\n",
    "https://youtube.com\n",
    "https://www.nasa.gov\n",
    "'''\n",
    "pattern = re.compile(r'https?://(www\\.)?(\\w+)(\\.\\w+)')\n",
    "matches = pattern.findall(urls)\n",
    "for match in matches:\n",
    "    print(match)"
   ]
  },
  {
   "cell_type": "markdown",
   "id": "29a66ccb",
   "metadata": {},
   "source": [
    "**match**\n",
    "- Match method will determine if the regular expression matches at the beginning of the string\n",
    "- match doesnt return an iterable like finditer or findall\n",
    "- It returns first match if there and if there isnt a match then it returns none"
   ]
  },
  {
   "cell_type": "code",
   "execution_count": null,
   "id": "7b61f661",
   "metadata": {},
   "outputs": [],
   "source": [
    "pattern = re.compile(r'Start')\n",
    "matches = pattern.match(sentence)\n",
    "print(matches)"
   ]
  },
  {
   "cell_type": "code",
   "execution_count": null,
   "id": "09951b8d",
   "metadata": {},
   "outputs": [],
   "source": [
    "pattern = re.compile(r'sentence')\n",
    "matches = pattern.match(sentence)\n",
    "print(matches)"
   ]
  },
  {
   "cell_type": "markdown",
   "id": "9583af95",
   "metadata": {},
   "source": [
    "**Search**\n",
    "- search method will determine if the regular expression matches in the string"
   ]
  },
  {
   "cell_type": "code",
   "execution_count": null,
   "id": "bf256f99",
   "metadata": {},
   "outputs": [],
   "source": [
    "pattern = re.compile(r'sentence')\n",
    "matches = pattern.search(sentence)\n",
    "print(matches)"
   ]
  },
  {
   "cell_type": "code",
   "execution_count": null,
   "id": "05f12334",
   "metadata": {},
   "outputs": [],
   "source": [
    "pattern = re.compile(r'ten')\n",
    "matches = pattern.search(sentence)\n",
    "print(matches)"
   ]
  },
  {
   "cell_type": "code",
   "execution_count": null,
   "id": "d19b65cb",
   "metadata": {},
   "outputs": [],
   "source": [
    "pattern = re.compile(r'den')\n",
    "matches = pattern.search(sentence)\n",
    "print(matches)"
   ]
  },
  {
   "cell_type": "markdown",
   "id": "a647dd38",
   "metadata": {},
   "source": [
    "# flags"
   ]
  },
  {
   "cell_type": "code",
   "execution_count": null,
   "id": "f76eeef7",
   "metadata": {},
   "outputs": [],
   "source": [
    "pattern = re.compile(r'start',re.IGNORECASE)\n",
    "matches = pattern.search(sentence)\n",
    "print(matches)"
   ]
  },
  {
   "cell_type": "code",
   "execution_count": null,
   "id": "5704a83d",
   "metadata": {},
   "outputs": [],
   "source": [
    "pattern = re.compile(r'start',re.I)\n",
    "matches = pattern.search(sentence)\n",
    "print(matches)"
   ]
  },
  {
   "cell_type": "code",
   "execution_count": null,
   "id": "01480c7e",
   "metadata": {},
   "outputs": [],
   "source": []
  }
 ],
 "metadata": {
  "kernelspec": {
   "display_name": "Python 3 (ipykernel)",
   "language": "python",
   "name": "python3"
  },
  "language_info": {
   "codemirror_mode": {
    "name": "ipython",
    "version": 3
   },
   "file_extension": ".py",
   "mimetype": "text/x-python",
   "name": "python",
   "nbconvert_exporter": "python",
   "pygments_lexer": "ipython3",
   "version": "3.9.7"
  }
 },
 "nbformat": 4,
 "nbformat_minor": 5
}
