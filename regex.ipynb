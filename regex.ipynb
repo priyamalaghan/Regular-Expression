{
 "cells": [
  {
   "cell_type": "markdown",
   "id": "8f6224d7",
   "metadata": {},
   "source": [
    "- A Regular Expression (RE) in a programming language is a special text string used for describing a search pattern. \n",
    "- It is extremely useful for extracting information from text such as code, files, log, spreadsheets or even documents.\n",
    "- A Python regular expression could tell a program to search for specific text from the string and then to print out the result accordingly. Expression can include\n",
    "    - Text matching\n",
    "    - Repetition\n",
    "    - Branching\n",
    "    - Pattern-composition etc.\n",
    "- Python supports regular expression through libraries. RegEx in Python supports various things like Modifiers, Identifiers, and White space characters.\n",
    "    - Identifiers\n",
    "        - \\d= any number (a digit)\t\n",
    "        - \\D= anything but a number (a non-digit)\n",
    "        - \\s = space(tab,space,newline etc.)(which includes [ \\t\\n\\r\\f\\v]\n",
    "        - \\S= anything but a space\n",
    "        - \\w = letters ( Match alphanumeric character, including “_”)\n",
    "        - \\W =anything but letters ( Matches a non-alphanumeric character excluding “_”)\n",
    "        - .= anything but letters (periods)\n",
    "        - \\b = any character except for new line\t\n",
    "    - Modifiers\n",
    "        - += matches 1 or more\n",
    "        - ?= matches 0 or 1\t\n",
    "        - *= 0 or more\t\n",
    "        - $ match end of a string\t\n",
    "        - ^ match start of a string\t\n",
    "        - | matches either or x/y\t\n",
    "        - [] = range or “variance”\t\n",
    "        - {x} = this amount of preceding code\t"
   ]
  },
  {
   "cell_type": "code",
   "execution_count": null,
   "id": "da0732f0",
   "metadata": {},
   "outputs": [],
   "source": [
    "import re\n",
    "xx = \"guru99,education is fun\"\n",
    "r1 = re.findall(r\"^\\w+\",xx)\n",
    "r2 = re.findall(r\"^\\w\",xx)\n",
    "print(r1)\n",
    "print(r2)"
   ]
  },
  {
   "cell_type": "code",
   "execution_count": null,
   "id": "d7c0d819",
   "metadata": {},
   "outputs": [],
   "source": [
    "print((re.split(r'\\s','we are splitting the words')))\n",
    "print((re.split(r's','split the words')))"
   ]
  },
  {
   "cell_type": "code",
   "execution_count": null,
   "id": "0c02d1ad",
   "metadata": {},
   "outputs": [],
   "source": [
    "import re\n",
    "li = ['guru99 get','guru99 give','guru Selenium']\n",
    "for element in li:\n",
    "    z = re.match('(g\\w+)\\W(g\\w+)',element)\n",
    "    if z:\n",
    "        print((z.groups()))"
   ]
  },
  {
   "cell_type": "code",
   "execution_count": null,
   "id": "8a995db7",
   "metadata": {},
   "outputs": [],
   "source": [
    "import re\n",
    "patterns = ['software testing','guru99']\n",
    "text = 'software testing is fun?'\n",
    "for pattern in patterns:\n",
    "    print('Looking for \"%s\" in \"%s\" ->'%(pattern,text),end=' ')\n",
    "    if re.search(pattern,text):\n",
    "        print('Found a match')\n",
    "    else:\n",
    "        print('No match')"
   ]
  },
  {
   "cell_type": "code",
   "execution_count": null,
   "id": "273266bf",
   "metadata": {},
   "outputs": [],
   "source": [
    "abc = 'guru99@google.com, careerguru99@hotmail.com, users@yahoomail.com'\n",
    "emails = re.findall(r'[\\w\\.-]+@[\\w\\.-]+', abc)\n",
    "for email in emails:\n",
    "    print(email)"
   ]
  },
  {
   "cell_type": "code",
   "execution_count": null,
   "id": "53eb2290",
   "metadata": {},
   "outputs": [],
   "source": []
  }
 ],
 "metadata": {
  "kernelspec": {
   "display_name": "Python 3 (ipykernel)",
   "language": "python",
   "name": "python3"
  },
  "language_info": {
   "codemirror_mode": {
    "name": "ipython",
    "version": 3
   },
   "file_extension": ".py",
   "mimetype": "text/x-python",
   "name": "python",
   "nbconvert_exporter": "python",
   "pygments_lexer": "ipython3",
   "version": "3.9.7"
  }
 },
 "nbformat": 4,
 "nbformat_minor": 5
}
